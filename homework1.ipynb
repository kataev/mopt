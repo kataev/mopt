{
 "cells": [
  {
   "cell_type": "markdown",
   "metadata": {},
   "source": [
    "# Домашняя задача № 1\n",
    "# Катаев Денис\n",
    "## Динамическое программирование\n",
    "### Вариант № 5\n",
    "### Задача\n",
    "\n",
    "Условия задачи\n",
    "$$ Z = c_2x_2^{2} + \\sum_{j=1,3,4}c_{j}x_{j} \\longrightarrow \\max $$\n",
    "\n",
    "$$ b_0=19 \\\\ a = (4, 1, 2, 2) \\\\ c = (3, 2, 3, 1.8) $$\n",
    "\n",
    "\n",
    "при ограничениях:\n",
    "$$ \\sum_{j=1}^{4}a_{j}x_{j} \\leqslant b $$ $$ x>=0 $$ $$ x_1=>2 $$ $$ x_2 \\leqslant 3 $$ $$ x - целое $$\n",
    "\n",
    "так же из задачи известно:\n",
    "$$ b_{j}=b_{j-1}-a_{j}x_{j}, (j=1,2,3,4) $$"
   ]
  },
  {
   "cell_type": "code",
   "execution_count": 2,
   "metadata": {
    "collapsed": true
   },
   "outputs": [],
   "source": [
    "b0 = 19\n",
    "a = [None, 4, 1, 2, 2]\n",
    "c = [None, 3, 2, 3, 1.8]\n",
    "xj = {0:[None, None, None, None, None]}"
   ]
  },
  {
   "cell_type": "markdown",
   "metadata": {},
   "source": [
    "Шаг 1 $(b_3 \\rightarrow b_4)$:\n",
    "\n",
    "\n",
    "Решается аналитически\n",
    "$$ f_1(b_3) = \\max_{0 \\leqslant x_4 \\leqslant [\\frac{b_3}{a_4}]} C_4 x_4 = 1.8 [\\frac{b_3}{2}] $$\n",
    "где $$x_4 = [\\frac{b_3}{2}]$$"
   ]
  },
  {
   "cell_type": "markdown",
   "metadata": {},
   "source": [
    "Шаг 2 $(b_2 \\rightarrow b_3)$:\n",
    "\n",
    "$$ f_2(b_2) = \\max_{0 \\leqslant x_3 \\leqslant [\\frac{b_2}{a_3}]}(C_3x_3 + f_1(b_3))$$\n",
    "Выполним табулирование функции $f_2(b_2)$"
   ]
  },
  {
   "cell_type": "code",
   "execution_count": 3,
   "metadata": {
    "collapsed": false,
    "scrolled": false
   },
   "outputs": [
    {
     "name": "stdout",
     "output_type": "stream",
     "text": [
      "[[ -inf  -inf  -inf  -inf  -inf  -inf  -inf  -inf  -inf  -inf]\n",
      " [  0.   -inf  -inf  -inf  -inf  -inf  -inf  -inf  -inf  -inf]\n",
      " [  1.8   3.   -inf  -inf  -inf  -inf  -inf  -inf  -inf  -inf]\n",
      " [  1.8   3.   -inf  -inf  -inf  -inf  -inf  -inf  -inf  -inf]\n",
      " [  3.6   4.8   6.   -inf  -inf  -inf  -inf  -inf  -inf  -inf]\n",
      " [  3.6   4.8   6.   -inf  -inf  -inf  -inf  -inf  -inf  -inf]\n",
      " [  5.4   6.6   7.8   9.   -inf  -inf  -inf  -inf  -inf  -inf]\n",
      " [  5.4   6.6   7.8   9.   -inf  -inf  -inf  -inf  -inf  -inf]\n",
      " [  7.2   8.4   9.6  10.8  12.   -inf  -inf  -inf  -inf  -inf]\n",
      " [  7.2   8.4   9.6  10.8  12.   -inf  -inf  -inf  -inf  -inf]\n",
      " [  9.   10.2  11.4  12.6  13.8  15.   -inf  -inf  -inf  -inf]\n",
      " [  9.   10.2  11.4  12.6  13.8  15.   -inf  -inf  -inf  -inf]\n",
      " [ 10.8  12.   13.2  14.4  15.6  16.8  18.   -inf  -inf  -inf]\n",
      " [ 10.8  12.   13.2  14.4  15.6  16.8  18.   -inf  -inf  -inf]\n",
      " [ 12.6  13.8  15.   16.2  17.4  18.6  19.8  21.   -inf  -inf]\n",
      " [ 12.6  13.8  15.   16.2  17.4  18.6  19.8  21.   -inf  -inf]\n",
      " [ 14.4  15.6  16.8  18.   19.2  20.4  21.6  22.8  24.   -inf]\n",
      " [ 14.4  15.6  16.8  18.   19.2  20.4  21.6  22.8  24.   -inf]\n",
      " [ 16.2  17.4  18.6  19.8  21.   22.2  23.4  24.6  25.8  27. ]\n",
      " [ 16.2  17.4  18.6  19.8  21.   22.2  23.4  24.6  25.8  27. ]]\n"
     ]
    },
    {
     "data": {
      "image/png": "[encoded data removed]",
      "text/plain": [
       "<matplotlib.figure.Figure at 0x10db29210>"
      ]
     },
     "metadata": {},
     "output_type": "display_data"
    },
    {
     "data": {
      "text/markdown": [
       "$\\max f(b) = 27.0, x = array([9, 9]), b = array([18, 19]) $"
      ],
      "text/plain": [
       "<IPython.core.display.Markdown object>"
      ]
     },
     "execution_count": 3,
     "metadata": {},
     "output_type": "execute_result"
    }
   ],
   "source": [
    "%matplotlib inline\n",
    "\n",
    "from __future__ import division\n",
    "import numpy as np\n",
    "from math import trunc\n",
    "import matplotlib\n",
    "import matplotlib.pyplot as plt\n",
    "from IPython.display import Markdown\n",
    "\n",
    "def tabulate(func, restictions, max_x, max_b):\n",
    "    result = np.full([max_b + 1, max_x + 1], -np.inf, dtype=float)\n",
    "    it = np.nditer(result, flags=['multi_index'])\n",
    "    while not it.finished:\n",
    "        b, x = it.multi_index\n",
    "        if 0 < b < max_b + 1 and restictions(b, x, a):\n",
    "            result[b][x] = func(b, x)\n",
    "        it.iternext()\n",
    "    max_f = result.max()\n",
    "    max_b, max_x = np.where(result == max_f)\n",
    "    return result, u'$\\max f(b) = %r, x = %r, b = %r $' % (max_f, max_x, max_b)\n",
    "\n",
    "f2 = lambda b2, x3: c[3] * x3 + c[4] * trunc((b2 - a[3] * x3) / a[4])\n",
    "f2_restrictions = lambda b, x, a: 0 <= x <= trunc(b / a[3])\n",
    "r, md =tabulate(f2, f2_restrictions, trunc(b0 / a[3]), b0)\n",
    "print r\n",
    "plt.imshow(r)\n",
    "plt.show()\n",
    "Markdown(md)\n",
    "    "
   ]
  },
  {
   "cell_type": "markdown",
   "metadata": {},
   "source": [
    "Поскольку функция достигает максимума при максимальных $x$, \n",
    "то можно принять $$x_3 = [\\frac{b_2}{a_3}] = [\\frac{b_2}{2}]$$\n",
    "тогда\n",
    "$$f_2(b_2) = C_3[\\frac{b_2}{a_3}] + C_4[\\frac{b_3}{a_4}] =\n",
    "\\\\ C_3[\\frac{b_2}{a_3}] + C_4[\\frac{b_2 - a_3 x_3}{a_4}] = \n",
    "\\\\ 3 [\\frac{b_2}{2}] + 1.8[\\frac{b_2 - [b_2]}{2}] = 3 [\\frac{b_2}{2}] $$"
   ]
  },
  {
   "cell_type": "markdown",
   "metadata": {},
   "source": [
    "Шаг 3 $(b_1 \\rightarrow b_2)$:\n",
    "\n",
    "$$ f_3(b_1) =\\max_{0 \\leqslant x_2 \\leqslant [\\frac{b_1}{a_2}] \\leqslant 3}\n",
    "    (C_2x_2^{2} + f_2(b_2)) = \n",
    "    C_2x_2^2 + C_3[\\frac{b_1 - a_2 x_2}{a_3}]\n",
    "$$\n",
    "выполним табуляцию этой функции"
   ]
  },
  {
   "cell_type": "code",
   "execution_count": 4,
   "metadata": {
    "collapsed": false
   },
   "outputs": [
    {
     "name": "stdout",
     "output_type": "stream",
     "text": [
      "[[-inf -inf -inf -inf]\n",
      " [  0.   2. -inf -inf]\n",
      " [  3.   2.   8. -inf]\n",
      " [  3.   5.   8.  18.]\n",
      " [  6.   5.  11.  18.]\n",
      " [  6.   8.  11.  21.]\n",
      " [  9.   8.  14.  21.]\n",
      " [  9.  11.  14.  24.]\n",
      " [ 12.  11.  17.  24.]\n",
      " [ 12.  14.  17.  27.]\n",
      " [ 15.  14.  20.  27.]\n",
      " [ 15.  17.  20.  30.]\n",
      " [ 18.  17.  23.  30.]\n",
      " [ 18.  20.  23.  33.]\n",
      " [ 21.  20.  26.  33.]\n",
      " [ 21.  23.  26.  36.]\n",
      " [ 24.  23.  29.  36.]\n",
      " [ 24.  26.  29.  39.]\n",
      " [ 27.  26.  32.  39.]\n",
      " [ 27.  29.  32.  42.]]\n"
     ]
    },
    {
     "data": {
      "image/png": "[encoded data removed]",
      "text/plain": [
       "<matplotlib.figure.Figure at 0x10dacd250>"
      ]
     },
     "metadata": {},
     "output_type": "display_data"
    },
    {
     "data": {
      "text/markdown": [
       "$\\max f(b) = 42.0, x = array([3]), b = array([19]) $"
      ],
      "text/plain": [
       "<IPython.core.display.Markdown object>"
      ]
     },
     "execution_count": 4,
     "metadata": {},
     "output_type": "execute_result"
    }
   ],
   "source": [
    "f3 = lambda b1, x2: c[2] * x2 * x2 + c[3] * trunc((b1 - a[2] * x2) / a[3])\n",
    "f3_restrictions = lambda b, x, a: 0 <= x <= min(3, trunc(b / a[2]))\n",
    "r, md = tabulate(f3, f3_restrictions, min(3,trunc(b0 / a[2])), b0)\n",
    "print r\n",
    "plt.imshow(r)\n",
    "plt.show()\n",
    "Markdown(md)"
   ]
  },
  {
   "cell_type": "markdown",
   "metadata": {},
   "source": [
    "Максимум достигается при $x_2=3$ таким образом:\n",
    "$$\n",
    "f_3(b_1) = C_2x_2^2 +  C_3[\\frac{b_1 - a_2 x_2}{a_3}]\n",
    "= 18 + 3[\\frac{b_1 - 3}{2}]\n",
    "$$\n",
    "\n",
    "Шаг 4 $(b_0 \\rightarrow b_1)$:\n",
    "\n",
    "$$ f_{4}(b_{0}) =\n",
    "\\max_{2 \\leqslant x_1 \\leqslant [\\frac{b_0}{a_1}]} (C_1x_1 + f_3(b_1)) = \\\\\n",
    "C_1x_1 + C_2x_2^2 +  C_3[\\frac{b_0 - a_1x_1 - a_2 x_2}{a_3}] = \\\\\n",
    "3x_1 + 18 + 3[\\frac{b_0 - 4x_1 - 3}{2}]\n",
    "$$\n",
    "Выполним табулирование данной функции"
   ]
  },
  {
   "cell_type": "code",
   "execution_count": 5,
   "metadata": {
    "collapsed": false
   },
   "outputs": [
    {
     "name": "stdout",
     "output_type": "stream",
     "text": [
      "[[-inf -inf -inf -inf -inf]\n",
      " [-inf -inf -inf -inf -inf]\n",
      " [-inf -inf -inf -inf -inf]\n",
      " [-inf -inf -inf -inf -inf]\n",
      " [-inf -inf -inf -inf -inf]\n",
      " [-inf -inf -inf -inf -inf]\n",
      " [-inf -inf -inf -inf -inf]\n",
      " [-inf -inf -inf -inf -inf]\n",
      " [-inf -inf  21. -inf -inf]\n",
      " [-inf -inf  21. -inf -inf]\n",
      " [-inf -inf  24. -inf -inf]\n",
      " [-inf -inf  24. -inf -inf]\n",
      " [-inf -inf  24.  24. -inf]\n",
      " [-inf -inf  27.  24. -inf]\n",
      " [-inf -inf  27.  27. -inf]\n",
      " [-inf -inf  30.  27. -inf]\n",
      " [-inf -inf  30.  27.  27.]\n",
      " [-inf -inf  33.  30.  27.]\n",
      " [-inf -inf  33.  30.  30.]\n",
      " [-inf -inf  36.  33.  30.]]\n"
     ]
    },
    {
     "data": {
      "image/png": "[encoded data removed]",
      "text/plain": [
       "<matplotlib.figure.Figure at 0x10ef25c50>"
      ]
     },
     "metadata": {},
     "output_type": "display_data"
    },
    {
     "data": {
      "text/markdown": [
       "$\\max f(b) = 36.0, x = array([2]), b = array([19]) $"
      ],
      "text/plain": [
       "<IPython.core.display.Markdown object>"
      ]
     },
     "execution_count": 5,
     "metadata": {},
     "output_type": "execute_result"
    }
   ],
   "source": [
    "f4 = lambda b0, x1: c[1] * x1 + c[2] * 3 ** 2 + c[3] * trunc((b0 - a[1] * x1 - 3) / a[3])\n",
    "f4_restrictions = lambda b, x, a: 2 <= x <= trunc(b / a[1])\n",
    "r, md = tabulate(f4, f4_restrictions, trunc(b0 / a[1]), b0)\n",
    "print r\n",
    "plt.imshow(r)\n",
    "plt.show()\n",
    "Markdown(md)"
   ]
  },
  {
   "cell_type": "markdown",
   "metadata": {},
   "source": [
    "Максимум достигается при $x_1 = 2$ т.е\n",
    "$$\n",
    "f_4(b_0) = 3x_1 + 18 + 3[\\frac{b_0 - 4x_1 - 3}{2}] = 3 * 2 + 18 + 3[\\frac{19 - 8 - 3}{2}] = 36\n",
    "$$"
   ]
  },
  {
   "cell_type": "markdown",
   "metadata": {},
   "source": [
    "Выпишим результаты шагов:\n",
    "1. $ f_1(b_3) = 1.8 [\\frac{b_3}{2}] $, при $x_4^0 = [\\frac{b_3}{2}]$\n",
    "2. $ f_2(b_2) = 3 [\\frac{b_2}{2}] $, при $x_3^0 = [\\frac{b_2}{2}]$\n",
    "3. $ f_3(b_1) = 18 + 3[\\frac{b_1 - 3}{2}] $, при $x_2=3$\n",
    "4. $ f_4(b_0) = 36$, при $x_1 = 2$"
   ]
  },
  {
   "cell_type": "markdown",
   "metadata": {},
   "source": [
    "Выполним перерасчет результатов $b$, выполняя последовательно шаги, начиная из начального состояния $b_0 \\rightarrow b_1 \\rightarrow b_2 \\rightarrow b_3 \\rightarrow b_4$\n",
    "1. $x_1^0 = 2, b_1 = b_0 - a_1x_1 = 19 - 4 * 2 = 11$\n",
    "2. $x_2^0 = 3, b_2 = b_1 - a_2x_2 = 11 - 1 * 3 = 8$\n",
    "3. $x_3^0 = 4, b_3 = b_2 - a_3x_3 = 8  - 2 * 4 = 0$\n",
    "4. $x_4^0 = 0, b_4 = 0$\n",
    "Получили оптимальной значение $x = (2,3,4,0)$ при котором значение целевой функции $Z(x^0)= 36$"
   ]
  },
  {
   "cell_type": "code",
   "execution_count": 6,
   "metadata": {
    "collapsed": false
   },
   "outputs": [
    {
     "name": "stdout",
     "output_type": "stream",
     "text": [
      "36.0\n"
     ]
    }
   ],
   "source": [
    "x = [None, 2, 3, 4, 0]\n",
    "f = 0\n",
    "for i in  range(1,5):\n",
    "    if i == 2:\n",
    "        f+= c[i] * x[i] ** 2\n",
    "    else:\n",
    "        f+= c[i] * x[i]\n",
    "print f"
   ]
  }
 ],
 "metadata": {
  "kernelspec": {
   "display_name": "Python 2",
   "language": "python",
   "name": "python2"
  },
  "language_info": {
   "codemirror_mode": {
    "name": "ipython",
    "version": 2
   },
   "file_extension": ".py",
   "mimetype": "text/x-python",
   "name": "python",
   "nbconvert_exporter": "python",
   "pygments_lexer": "ipython2",
   "version": "2.7.10"
  }
 },
 "nbformat": 4,
 "nbformat_minor": 0
}
