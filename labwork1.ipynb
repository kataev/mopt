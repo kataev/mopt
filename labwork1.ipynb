{
 "cells": [
  {
   "cell_type": "markdown",
   "metadata": {},
   "source": [
    "# Лабораторная работа № 1\n",
    "# Катаев Денис\n",
    "## Дискретное программирование\n",
    "### Вариант № 5\n",
    "### Задача\n",
    "Описание задачи\n",
    "$$ 2x_1 + x_2 + x_3 + x_4 \\rightarrow \\max $$ \n",
    "При ограничениях\n",
    "$$\n",
    "x_1 + 3x_2 +        2x_4 \\leqslant 10 \\\\\n",
    "       x_2 + 4x_3 +  x_4 \\leqslant 3  \\\\\n",
    "x_j \\geqslant 0, (j = 1,2,3,4)\n",
    "$$\n",
    "\n",
    "\n"
   ]
  },
  {
   "cell_type": "markdown",
   "metadata": {},
   "source": [
    "#### Этап 1. Решение без учета целочисленности\n",
    "Сначала решим задачу без учета целочисленности. С помошью модуля для языка Python под названием PuLP, он использует различные подключаемые решатели линейных уравнений (CBC, GLPK, CPLEX, Gurobi и т.д) для решения линейных моделей."
   ]
  },
  {
   "cell_type": "code",
   "execution_count": 295,
   "metadata": {
    "collapsed": false
   },
   "outputs": [
    {
     "data": {
      "text/markdown": [
       "Статус: Optimal\n",
       "\n",
       " $x^0 = (10.0, 0.0, 0.75, 0.0)$"
      ],
      "text/plain": [
       "<IPython.core.display.Markdown object>"
      ]
     },
     "execution_count": 295,
     "metadata": {},
     "output_type": "execute_result"
    }
   ],
   "source": [
    "# coding=utf-8\n",
    "import pulp\n",
    "from IPython.display import Markdown\n",
    "from __future__ import division\n",
    "\n",
    "x1 = pulp.LpVariable(\"x_1\", 0)  # нижняя граница: 0\n",
    "x2 = pulp.LpVariable(\"x_2\", 0)  # нижняя граница: 0\n",
    "x3 = pulp.LpVariable(\"x_3\", 0)  # нижняя граница: 0\n",
    "x4 = pulp.LpVariable(\"x_4\", 0)  # нижняя граница: 0\n",
    "\n",
    "\n",
    "def get_model():\n",
    "    model = pulp.LpProblem(\"Lab1 Kataev Denis\", pulp.LpMaximize)\n",
    "\n",
    "    model += 2 * x1 +     x2 +     x3 +     x4, 'Целевая функция'\n",
    "\n",
    "    model +=     x1 + 3 * x2 +          2 * x4 <= 10, \"Первое ограничение\"\n",
    "    model +=              x2 + 4 * x3 +     x4 <= 3, \"Второе ограничение\"\n",
    "    return model\n",
    "\n",
    "model = get_model()\n",
    "model.writeLP(\"model.lp\")  # записываем модель в специальный формат\n",
    "model.solve()  # запускаем оптимизацию\n",
    "data = (pulp.LpStatus[model.status], ', '.join(str(v.varValue) for v in model.variables()))\n",
    "\n",
    "Markdown(u\"Статус: %s\\n\\n $x^0 = (%s)$\" % data)"
   ]
  },
  {
   "cell_type": "markdown",
   "metadata": {},
   "source": [
    "Данное решение не обладает свойством целочисленности, нарисуем область допустимых решений в проекции при \n",
    "$x_2 =0, x_4 = 0$"
   ]
  },
  {
   "cell_type": "code",
   "execution_count": 296,
   "metadata": {
    "collapsed": false
   },
   "outputs": [
    {
     "data": {
      "image/png": "[encoded data removed]",
      "text/plain": [
       "<matplotlib.figure.Figure at 0x10d62d110>"
      ]
     },
     "metadata": {},
     "output_type": "display_data"
    }
   ],
   "source": [
    "%matplotlib inline\n",
    "import numpy as np\n",
    "import matplotlib\n",
    "import matplotlib.pyplot as plt\n",
    "\n",
    "x_1 = np.arange(0, 40, 0.1)\n",
    "tar = - 2 * x_1 + 20.75 \n",
    "l_1 = tar >= 3/4\n",
    "l_2 = 3/4 + 0 * x_1\n",
    "\n",
    "plt.xlim(8, 11)\n",
    "plt.ylim(0, 2)\n",
    "plt.xlabel('x_1')\n",
    "plt.ylabel('x_3')\n",
    "\n",
    "ltar, = plt.plot(x_1, tar, label='target')\n",
    "lx1, = plt.plot(x_1, l_2)\n",
    "opt, = plt.plot(10, 3/4, marker='*', markersize=15, label='optimal')\n",
    "opti, = plt.plot(10, 0, marker='p', markersize=15, label='optimalInt')\n",
    "plt.legend([ltar, lx1, opt, opti], [u'Target', u'Limit', 'Opt', 'OptInt'])\n",
    "\n",
    "plt.fill_between(x_1, l_2, where=l_1, color='gray', alpha='0.5')\n",
    "plt.show()"
   ]
  },
  {
   "cell_type": "markdown",
   "metadata": {},
   "source": [
    "На рисунке серым указано множество допустимых значений $G^0$ и показано звездочкой оптимальное нецелочисленное значение $x^0=(10, 0, 0.75, 0)$, а пентограммой оптимальное целочисленное $ x_i^0= (10, 0, 0, 0)$."
   ]
  },
  {
   "cell_type": "markdown",
   "metadata": {},
   "source": [
    "#### Этап 2. Ветвление\n",
    "Разобьем исходное множество допустимых значений $G_0$ на два подмножества:\n",
    "$$ G_0 = G_1 \\cup G_2 $$ где $$ G_1 = \\{x, x \\in G_0, x_3 > 0 \\}; G_2 = \\{x, x \\in G_0, x_3 = 0 \\} $$\n",
    "Решаем задачу на множестве $G_1$."
   ]
  },
  {
   "cell_type": "code",
   "execution_count": 304,
   "metadata": {
    "collapsed": false
   },
   "outputs": [
    {
     "data": {
      "text/markdown": [
       "Статус: Optimal\n",
       "\n",
       " Оптимальное решение $x^1 = (10.0, 0.0, 0.75, 0.0)$, значение целевой функции 20.75"
      ],
      "text/plain": [
       "<IPython.core.display.Markdown object>"
      ]
     },
     "execution_count": 304,
     "metadata": {},
     "output_type": "execute_result"
    }
   ],
   "source": [
    "model_g1 = get_model()\n",
    "model_g1 += x3 > 0, \"Первое ограничение\"\n",
    "model_g1.writeLP(\"model_g1.lp\")  # записываем модель в специальный формат\n",
    "model_g1.solve()  # запускаем оптимизацию\n",
    "data = (pulp.LpStatus[model_g1.status], ', '.join(str(v.varValue) for v in model_g1.variables()), pulp.value(model.objective))\n",
    "\n",
    "Markdown(u\"Статус: %s\\n\\n Оптимальное решение $x^1 = (%s)$, значение целевой функции %s\" % data)"
   ]
  },
  {
   "cell_type": "markdown",
   "metadata": {},
   "source": [
    "Полученное решение $x_1$ не обладает свойством целочисленности."
   ]
  },
  {
   "cell_type": "code",
   "execution_count": 305,
   "metadata": {
    "collapsed": false
   },
   "outputs": [
    {
     "data": {
      "text/markdown": [
       "Статус: Optimal\n",
       "\n",
       " Оптимальное решение $x^2 = (10.0, 0.0, 0.0, 0.0)$, значение целевой функции 20.0"
      ],
      "text/plain": [
       "<IPython.core.display.Markdown object>"
      ]
     },
     "execution_count": 305,
     "metadata": {},
     "output_type": "execute_result"
    }
   ],
   "source": [
    "model_g2 = get_model()\n",
    "model_g2 += x3 == 0, \"kek\"\n",
    "model_g2.writeLP(\"model_g2.lp\")  # записываем модель в специальный формат\n",
    "model_g2.solve()  # запускаем оптимизацию\n",
    "data = (pulp.LpStatus[model_g2.status], ', '.join(str(v.varValue) for v in model_g2.variables()), pulp.value(model.objective))\n",
    "\n",
    "Markdown(u\"Статус: %s\\n\\n Оптимальное решение $x^2 = (%s)$, значение целевой функции %s\" % data)"
   ]
  },
  {
   "cell_type": "markdown",
   "metadata": {},
   "source": [
    "Полученное оптимальное решение $x_2$ обладает свойством целочисленности. \n",
    "\n",
    "Наглядное представление схемы ветвлений решения задачи изображено на рисунке ниже."
   ]
  },
  {
   "cell_type": "code",
   "execution_count": 306,
   "metadata": {
    "collapsed": false
   },
   "outputs": [
    {
     "data": {
      "image/png": "[encoded data removed]",
      "text/plain": [
       "<IPython.core.display.Image object>"
      ]
     },
     "execution_count": 306,
     "metadata": {},
     "output_type": "execute_result"
    }
   ],
   "source": [
    "from IPython.display import Image\n",
    "Image(filename='laba1_opt.png') "
   ]
  },
  {
   "cell_type": "markdown",
   "metadata": {},
   "source": [
    "#### Результат\n",
    "Оптимальное целочисленное решение $x_0 = (10, 0, 0, 0)$ исходной задачи находится на множестве $G_2$, при этом $F(x_0) = 20$."
   ]
  }
 ],
 "metadata": {
  "kernelspec": {
   "display_name": "Python 2",
   "language": "python",
   "name": "python2"
  },
  "language_info": {
   "codemirror_mode": {
    "name": "ipython",
    "version": 2
   },
   "file_extension": ".py",
   "mimetype": "text/x-python",
   "name": "python",
   "nbconvert_exporter": "python",
   "pygments_lexer": "ipython2",
   "version": "2.7.10"
  }
 },
 "nbformat": 4,
 "nbformat_minor": 0
}
